{
 "cells": [
  {
   "metadata": {
    "ExecuteTime": {
     "end_time": "2025-10-06T02:56:12.550260Z",
     "start_time": "2025-10-06T02:56:10.432135Z"
    }
   },
   "cell_type": "code",
   "source": [
    "chuoi_nhap_vao = str(input())\n",
    "chuoi_dao_nguoc = chuoi_nhap_vao[::-1]\n",
    "so_dao_nguoc = int(chuoi_dao_nguoc)\n",
    "print(so_dao_nguoc)"
   ],
   "id": "b8ddd6fa811448e6",
   "outputs": [
    {
     "name": "stdout",
     "output_type": "stream",
     "text": [
      "4231211\n"
     ]
    }
   ],
   "execution_count": 5
  },
  {
   "metadata": {
    "ExecuteTime": {
     "end_time": "2025-10-06T03:01:28.282182Z",
     "start_time": "2025-10-06T03:01:25.634461Z"
    }
   },
   "cell_type": "code",
   "source": [
    "a,b = map(int,input().split())\n",
    "a = a^b\n",
    "b = b^a\n",
    "a = b^a\n",
    "print (a,b)"
   ],
   "id": "519818950ca7598a",
   "outputs": [
    {
     "name": "stdout",
     "output_type": "stream",
     "text": [
      "2 1\n"
     ]
    }
   ],
   "execution_count": 8
  },
  {
   "metadata": {
    "ExecuteTime": {
     "end_time": "2025-10-06T03:15:54.945615Z",
     "start_time": "2025-10-06T03:15:49.817293Z"
    }
   },
   "cell_type": "code",
   "source": [
    "n = int(input())\n",
    "a = n & (n-1)\n",
    "if a == 0:\n",
    "    print(\"True\")\n",
    "elif a != 0:\n",
    "    print(\"False\")"
   ],
   "id": "aaecad6eb314ab58",
   "outputs": [
    {
     "name": "stdout",
     "output_type": "stream",
     "text": [
      "True\n"
     ]
    }
   ],
   "execution_count": 11
  },
  {
   "metadata": {
    "ExecuteTime": {
     "end_time": "2025-10-06T03:20:52.947173Z",
     "start_time": "2025-10-06T03:20:49.577570Z"
    }
   },
   "cell_type": "code",
   "source": [
    "import math\n",
    "a , b = map(float, input().split())\n",
    "print(math.floor(a/b))"
   ],
   "id": "dd04b82255636e7",
   "outputs": [
    {
     "name": "stdout",
     "output_type": "stream",
     "text": [
      "51\n"
     ]
    }
   ],
   "execution_count": 17
  },
  {
   "metadata": {
    "ExecuteTime": {
     "end_time": "2025-10-06T03:22:36.063308Z",
     "start_time": "2025-10-06T03:22:30.283927Z"
    }
   },
   "cell_type": "code",
   "source": [
    "import math\n",
    "\n",
    "a, b = map(float, input().split())\n",
    "print(math.ceil(a/b))"
   ],
   "id": "b506e00ae2b3ca06",
   "outputs": [
    {
     "name": "stdout",
     "output_type": "stream",
     "text": [
      "52\n"
     ]
    }
   ],
   "execution_count": 21
  },
  {
   "metadata": {
    "ExecuteTime": {
     "end_time": "2025-10-06T03:30:01.988494Z",
     "start_time": "2025-10-06T03:29:59.805026Z"
    }
   },
   "cell_type": "code",
   "source": [
    "a = int(input())\n",
    "if a % 2 == 0:\n",
    "    print(\"Even\")\n",
    "elif a % 2 != 0:\n",
    "    print(\"Odd\")"
   ],
   "id": "55b6b5a710a8bfd0",
   "outputs": [
    {
     "name": "stdout",
     "output_type": "stream",
     "text": [
      "Odd\n"
     ]
    }
   ],
   "execution_count": 46
  },
  {
   "metadata": {
    "ExecuteTime": {
     "end_time": "2025-10-06T03:33:38.505328Z",
     "start_time": "2025-10-06T03:33:35.323940Z"
    }
   },
   "cell_type": "code",
   "source": [
    "a = int(input())\n",
    "b = int(input())\n",
    "if a < 0 and b < 0 :\n",
    "    print(\"Yes\")\n",
    "else :\n",
    "    print(\"No\")"
   ],
   "id": "1c348fc2fd31cf0b",
   "outputs": [
    {
     "name": "stdout",
     "output_type": "stream",
     "text": [
      "No\n"
     ]
    }
   ],
   "execution_count": 52
  },
  {
   "metadata": {
    "ExecuteTime": {
     "end_time": "2025-10-06T03:38:24.270490Z",
     "start_time": "2025-10-06T03:38:21.230708Z"
    }
   },
   "cell_type": "code",
   "source": [
    "a = str(input())\n",
    "b = str(input())\n",
    "c = len(a)\n",
    "d = len(b)\n",
    "if c > d :\n",
    "    print(\"True\")\n",
    "else:\n",
    "    print(\"False\")"
   ],
   "id": "20eca73b247694c6",
   "outputs": [
    {
     "name": "stdout",
     "output_type": "stream",
     "text": [
      "True\n"
     ]
    }
   ],
   "execution_count": 62
  },
  {
   "metadata": {
    "ExecuteTime": {
     "end_time": "2025-10-06T03:40:37.607879Z",
     "start_time": "2025-10-06T03:40:33.533313Z"
    }
   },
   "cell_type": "code",
   "source": [
    "a = int(input())\n",
    "b = int(input())\n",
    "c = int(input())\n",
    "if a > 0 and b > 0 and c > 0:\n",
    "    if a < b + c and b < a + c and c < a + b :\n",
    "        print(\"Yes\")\n",
    "    else:\n",
    "        print(\"No\")\n",
    "else:\n",
    "    print(\"No\")"
   ],
   "id": "23b856d1cfa00616",
   "outputs": [
    {
     "name": "stdout",
     "output_type": "stream",
     "text": [
      "True\n"
     ]
    }
   ],
   "execution_count": 63
  },
  {
   "metadata": {
    "ExecuteTime": {
     "end_time": "2025-10-06T03:42:42.071013Z",
     "start_time": "2025-10-06T03:42:36.041995Z"
    }
   },
   "cell_type": "code",
   "source": [
    "a = int(input())\n",
    "b = int(input())\n",
    "c = int(input())\n",
    "d = int(input())\n",
    "print(max(a,b,c,d))\n"
   ],
   "id": "fbf4ec0e18c71ba3",
   "outputs": [
    {
     "name": "stdout",
     "output_type": "stream",
     "text": [
      "5\n"
     ]
    }
   ],
   "execution_count": 64
  },
  {
   "metadata": {
    "ExecuteTime": {
     "end_time": "2025-10-06T03:51:05.333179Z",
     "start_time": "2025-10-06T03:51:00.431146Z"
    }
   },
   "cell_type": "code",
   "source": [
    "a = int(input())\n",
    "b = int(input())\n",
    "c = int(input())\n",
    "if a > 0 and b > 0 and c > 0:\n",
    "    if a < b + c and b < a + c and c < a + b :\n",
    "        if a == b == c:\n",
    "            print(\"Tam giác đều\")\n",
    "        if a == b and a != c:\n",
    "            print(\"Tam giác cân\")\n",
    "        elif b == c and b != a:\n",
    "            print(\"Tam giác cân\")\n",
    "        elif a == c and a != b:\n",
    "            print(\"Tam giác cân\")\n",
    "        if a**2 == b**2 + c**2 or b**2 == c**2 + a**2 or c**2 == a**2 + b**2 :\n",
    "            print(\"Tam giác vuông\")\n",
    "        else:\n",
    "            print(\"Tam giác thường\")\n",
    "    else:\n",
    "        print(\"Không phải tam giác\")\n",
    "else:\n",
    "    print(\"Không phải tam giác\")"
   ],
   "id": "16944f7ce4f10e37",
   "outputs": [
    {
     "name": "stdout",
     "output_type": "stream",
     "text": [
      "Tam giác vuông\n"
     ]
    }
   ],
   "execution_count": 70
  },
  {
   "metadata": {
    "ExecuteTime": {
     "end_time": "2025-10-06T03:57:38.923366Z",
     "start_time": "2025-10-06T03:57:36.275923Z"
    }
   },
   "cell_type": "code",
   "source": [
    "a = int(input())\n",
    "if a % 4 == 0 and a % 100 != 0:\n",
    "    print(\"Yes\")\n",
    "elif a % 400 == 0:\n",
    "    print(\"Yes\")\n",
    "else:\n",
    "    print(\"No\")"
   ],
   "id": "28eae1443f7845e5",
   "outputs": [
    {
     "name": "stdout",
     "output_type": "stream",
     "text": [
      "No\n"
     ]
    }
   ],
   "execution_count": 75
  },
  {
   "metadata": {
    "ExecuteTime": {
     "end_time": "2025-10-06T04:17:49.781502Z",
     "start_time": "2025-10-06T04:17:48.146272Z"
    }
   },
   "cell_type": "code",
   "source": [
    "a = int(input())\n",
    "if a >= 0 and a <= 50 :\n",
    "    print(1500*a)\n",
    "if a >= 51 and a <= 100:\n",
    "    print(1500*50 + (a-50)*2000)\n",
    "if a >= 100:\n",
    "    print(1500*50 + 2000*50 + (a-100)*3000)"
   ],
   "id": "d9f06a19795b5200",
   "outputs": [
    {
     "name": "stdout",
     "output_type": "stream",
     "text": [
      "969696838000\n"
     ]
    }
   ],
   "execution_count": 78
  },
  {
   "metadata": {
    "ExecuteTime": {
     "end_time": "2025-10-06T04:22:56.523511Z",
     "start_time": "2025-10-06T04:22:53.785413Z"
    }
   },
   "cell_type": "code",
   "source": [
    "a = float(input())\n",
    "b = float(input())\n",
    "if a == 0 and b == 0:\n",
    "    print(\"Vô số nghiệm\")\n",
    "elif a != 0 and b != 0 :\n",
    "    print(-b/a)\n",
    "elif a == 0 and b != 0:\n",
    "    print(\"Vô nghiệm\")\n",
    "elif a != 0 and b == 0:\n",
    "    print(\"0\")"
   ],
   "id": "501ce08f0ea14d7a",
   "outputs": [
    {
     "name": "stdout",
     "output_type": "stream",
     "text": [
      "Vô nghiệm\n"
     ]
    }
   ],
   "execution_count": 82
  },
  {
   "metadata": {
    "ExecuteTime": {
     "end_time": "2025-10-06T04:33:48.583546Z",
     "start_time": "2025-10-06T04:33:45.235183Z"
    }
   },
   "cell_type": "code",
   "source": [
    "a = float(input())\n",
    "if a >= 0 and a <= 10:\n",
    "    if a >= 8.0 :\n",
    "        print(\"Giỏi\")\n",
    "    elif a  >= 6.5 and a <= 8.0:\n",
    "        print(\"Khá\")\n",
    "    elif a <= 6.5 and a >= 5.0:\n",
    "        print(\"Trung bình\")\n",
    "    else:\n",
    "        print(\"Yếu\")\n",
    "else:\n",
    "    print(\"\")"
   ],
   "id": "6e27c607f1e91723",
   "outputs": [
    {
     "name": "stdout",
     "output_type": "stream",
     "text": [
      "Trung bình\n"
     ]
    }
   ],
   "execution_count": 84
  },
  {
   "metadata": {
    "ExecuteTime": {
     "end_time": "2025-10-06T04:54:58.989074Z",
     "start_time": "2025-10-06T04:54:54.622392Z"
    }
   },
   "cell_type": "code",
   "source": [
    "a = float(input())\n",
    "if a == 0:\n",
    "    b = int(a)\n",
    "    print(b , b, b, sep = \" \")\n",
    "if a > 0 :\n",
    "    print(int(a)+1)\n",
    "    print(int(a))\n",
    "    if a - int(a) > 0.5:\n",
    "        print(int(a)+1)\n",
    "    elif a - int(a) < 0.5:\n",
    "        print(int(a))\n",
    "if a < 0 :\n",
    "    print(int(a)-1)\n",
    "    print(int(a))\n",
    "    if a*-1 - int(a*-1) >0.5:\n",
    "        print(int(a))\n",
    "    if a *-1 - int(a*-1) <0.5:\n",
    "        print(int(a)+1)"
   ],
   "id": "50c1221223791dc1",
   "outputs": [
    {
     "name": "stdout",
     "output_type": "stream",
     "text": [
      "-6\n",
      "-5\n",
      "-5\n"
     ]
    }
   ],
   "execution_count": 93
  },
  {
   "metadata": {
    "ExecuteTime": {
     "end_time": "2025-10-06T06:49:25.736766Z",
     "start_time": "2025-10-06T06:49:22.465392Z"
    }
   },
   "cell_type": "code",
   "source": [
    "a = float(input())\n",
    "def ceil():\n",
    "    while True:\n",
    "        try:\n",
    "            if a == int(a):\n",
    "                return int(a)\n",
    "            elif a > 0 and a!= int(a):\n",
    "                return int(a)+1\n",
    "            elif a < 0 and a!= int(a):\n",
    "                return int(a)\n",
    "        except ValueError:\n",
    "            print(\"\")\n",
    "def floor():\n",
    "     while True:\n",
    "         try:\n",
    "             if a == int(a):\n",
    "                 return int(a)\n",
    "             elif a > 0 and a!= int(a):\n",
    "                 return int(a)\n",
    "             elif a < 0 and a!= int(a):\n",
    "                 return int(a)-1\n",
    "         except ValueError:\n",
    "             print(\"\")\n",
    "def round():\n",
    "    while True:\n",
    "        try:\n",
    "            if a == int(a):\n",
    "                return int(a)\n",
    "            elif a > 0 and a!= int(a):\n",
    "                if a - int(a) == 0.5:\n",
    "                    if (int(a)) % 2 ==0:\n",
    "                        return int(a)\n",
    "                    elif int(a) % 2 !=0:\n",
    "                        return int(a) +  1\n",
    "\n",
    "                elif a - int(a) > 0.5:\n",
    "                    return int(a)+1\n",
    "                elif a - int(a) < 0.5:\n",
    "                    return int(a)\n",
    "            elif a < 0 and a != int(a):\n",
    "                if a - int(a) == -0.5:\n",
    "                    if (abs(a)- int(abs(a)))% 2 ==0:\n",
    "                        return int(a)\n",
    "                    elif (abs(a)- int(abs(a)))% 2 !=0:\n",
    "                        return int(a)-1\n",
    "                if abs(a) - int(a*-1) < 0.5:\n",
    "                    return int(a)\n",
    "                if abs(a) - int(a*-1) > 0.5:\n",
    "                    return int(a)-1\n",
    "        except ValueError:\n",
    "            print(\"\")\n",
    "print(ceil(), floor(), round(), sep = \" \")\n",
    "\n"
   ],
   "id": "7c56973fc9593cf2",
   "outputs": [
    {
     "name": "stdout",
     "output_type": "stream",
     "text": [
      "-7 -8 -8\n"
     ]
    }
   ],
   "execution_count": 109
  },
  {
   "metadata": {
    "ExecuteTime": {
     "end_time": "2025-10-06T05:23:38.769324Z",
     "start_time": "2025-10-06T05:23:38.737059Z"
    }
   },
   "cell_type": "code",
   "source": "",
   "id": "8abdcf2c95539f60",
   "outputs": [
    {
     "ename": "TypeError",
     "evalue": "round() takes 0 positional arguments but 1 was given",
     "output_type": "error",
     "traceback": [
      "\u001B[31m---------------------------------------------------------------------------\u001B[39m",
      "\u001B[31mTypeError\u001B[39m                                 Traceback (most recent call last)",
      "\u001B[36mCell\u001B[39m\u001B[36m \u001B[39m\u001B[32mIn[107]\u001B[39m\u001B[32m, line 1\u001B[39m\n\u001B[32m----> \u001B[39m\u001B[32m1\u001B[39m \u001B[38;5;28;43mround\u001B[39;49m\u001B[43m(\u001B[49m\u001B[43m-\u001B[49m\u001B[32;43m7.5\u001B[39;49m\u001B[43m)\u001B[49m\n",
      "\u001B[31mTypeError\u001B[39m: round() takes 0 positional arguments but 1 was given"
     ]
    }
   ],
   "execution_count": 107
  }
 ],
 "metadata": {
  "kernelspec": {
   "display_name": "Python 3",
   "language": "python",
   "name": "python3"
  },
  "language_info": {
   "codemirror_mode": {
    "name": "ipython",
    "version": 2
   },
   "file_extension": ".py",
   "mimetype": "text/x-python",
   "name": "python",
   "nbconvert_exporter": "python",
   "pygments_lexer": "ipython2",
   "version": "2.7.6"
  }
 },
 "nbformat": 4,
 "nbformat_minor": 5
}
